{
 "cells": [
  {
   "cell_type": "code",
   "execution_count": 8,
   "metadata": {},
   "outputs": [],
   "source": [
    "from torchbeast.monobeast import *\n",
    "from torchbeast.attention_net import *\n",
    "from torchbeast.core.pre_attention import get_pre_map\n",
    "import matplotlib.pyplot as plt\n",
    "import numpy as np\n",
    "import cv2 as cv\n",
    "import torch\n",
    "import os\n",
    "import torch.nn as nn\n",
    "import torch.nn.functional as F\n",
    "\n",
    "class a:\n",
    "    \n",
    "    def __init__(self):\n",
    "        self.env = 'SkiingNoFrameskip-v4'\n",
    "        self.xpid = ''\n",
    "        self.savedir = '~/logs/torchbeast'\n",
    "flags = a()\n",
    "# model = attention_net.AttentionNet(env.gym_env.action_space.n)\n",
    "\n",
    "checkpointpath = os.path.expandvars(\n",
    "    os.path.expanduser(\"%s/%s/%s\" % (flags.savedir, flags.xpid, \"model.tar\"))\n",
    ")"
   ]
  },
  {
   "cell_type": "code",
   "execution_count": 9,
   "metadata": {
    "scrolled": true
   },
   "outputs": [
    {
     "name": "stdout",
     "output_type": "stream",
     "text": [
      "(3, 210, 160)\n"
     ]
    }
   ],
   "source": [
    "gym_env = create_env(flags)\n",
    "env = environment.Environment(gym_env)\n",
    "model = Net(num_actions=env.gym_env.action_space.n)\n",
    "observation = env.initial()\n",
    "hidden_state = model.initial_state(batch_size=1)"
   ]
  },
  {
   "cell_type": "code",
   "execution_count": 11,
   "metadata": {},
   "outputs": [
    {
     "name": "stdout",
     "output_type": "stream",
     "text": [
      "(3, 210, 160)\n",
      "(3, 210, 160)\n",
      "(3, 210, 160)\n",
      "(3, 210, 160)\n",
      "(3, 210, 160)\n",
      "(3, 210, 160)\n",
      "(3, 210, 160)\n",
      "(3, 210, 160)\n",
      "(3, 210, 160)\n",
      "(3, 210, 160)\n"
     ]
    },
    {
     "data": {
      "image/png": "[encoded data removed]",
      "text/plain": [
       "<Figure size 432x288 with 1 Axes>"
      ]
     },
     "metadata": {
      "needs_background": "light"
     },
     "output_type": "display_data"
    }
   ],
   "source": [
    "for i in range(10):\n",
    "    # env.gym_env.render()\n",
    "    agent_outputs, new_hidden_state = model(observation, hidden_state)\n",
    "    hidden_state = new_hidden_state\n",
    "    policy_outputs = agent_outputs\n",
    "    observation = env.step(torch.tensor([[1]]))\n",
    "    test_image = observation['frame']\n",
    "    image = np.transpose(test_image[0][0].numpy(), (1, 2, 0))\n",
    "    plt.imshow(image)"
   ]
  },
  {
   "cell_type": "code",
   "execution_count": null,
   "metadata": {},
   "outputs": [],
   "source": [
    "'''MsPacman'''\n",
    "import cv2 as cv\n",
    "import numpy as np\n",
    "\n",
    "Object = {'Enemies':[[198, 89, 179], [200, 72, 72], [84, 184, 153], [180, 122, 48]], 'Me':[[[210, 164, 74]]]}\n",
    "\n",
    "def get_pre_map(image):\n",
    "    image = np.transpose(image[0][0].numpy(), (1, 2, 0))\n",
    "    \n",
    "    A = np.bitwise_or(image == Object['Enemies'][0], image == Object['Enemies'][1])\n",
    "    B = np.bitwise_or(image == Object['Enemies'][2], image == Object['Enemies'][3])\n",
    "    C = np.bitwise_or(A, B)\n",
    "    C = np.array(C, dtype='uint8') * 255\n",
    "    \n",
    "    kernel = np.ones((7, 5), np.uint8)\n",
    "    \n",
    "    dilation = cv.dilate(C, kernel, iterations = 1)[:,:,0]\n",
    "    attention = cv.resize(dilation, (20, 27), interpolation = cv.INTER_AREA)\n",
    "    \n",
    "    Me = image == Object['Me'][0]\n",
    "    Me = np.array(Me, dtype='uint8') * 255\n",
    "    dilation1 = cv.dilate(Me, kernel, iterations = 1)[:,:,0]\n",
    "    attention1 = cv.resize(dilation1, (20, 27), interpolation = cv.INTER_AREA)\n",
    "    \n",
    "    Res = {'Me':attention1[:, :, np.newaxis], 'Enemies':attention[:, :, np.newaxis]}\n",
    "    return Res\n",
    "  "
   ]
  },
  {
   "cell_type": "code",
   "execution_count": 14,
   "metadata": {},
   "outputs": [
    {
     "data": {
      "text/plain": [
       "<matplotlib.image.AxesImage at 0x7fd32e87ea20>"
      ]
     },
     "execution_count": 14,
     "metadata": {},
     "output_type": "execute_result"
    },
    {
     "data": {
      "image/png": "[encoded data removed]",
      "text/plain": [
       "<Figure size 432x288 with 3 Axes>"
      ]
     },
     "metadata": {
      "needs_background": "light"
     },
     "output_type": "display_data"
    }
   ],
   "source": [
    "'''Skiing'''\n",
    "\n",
    "import cv2 as cv\n",
    "import numpy as np\n",
    "\n",
    "Object = {'Enemies':[[72, 160,72], [66, 72, 200]], 'Me':[[[216, 106, 106]]]}\n",
    "\n",
    "def get_pre_map(image):\n",
    "    image = np.transpose(image[0][0].numpy(), (1, 2, 0))\n",
    "    \n",
    "    C = np.bitwise_or(image == Object['Enemies'][0], image == Object['Enemies'][1])\n",
    "    C = np.array(C, dtype='uint8') * 255\n",
    "    \n",
    "    kernel = np.ones((7, 5), np.uint8)\n",
    "\n",
    "    dilation = cv.dilate(C, kernel, iterations = 1)[:,:,0]\n",
    "    attention = cv.resize(dilation, (20, 27), interpolation = cv.INTER_AREA)\n",
    "    \n",
    "    Me = image == Object['Me'][0]\n",
    "    Me = np.array(Me, dtype='uint8') * 255\n",
    "    dilation1 = cv.dilate(Me, kernel, iterations = 1)[:,:,0]\n",
    "    attention1 = cv.resize(dilation1, (20, 27), interpolation = cv.INTER_AREA)\n",
    "    \n",
    "    Res = {'Me':attention1[:, :, np.newaxis], 'Enemies':attention[:, :, np.newaxis]}\n",
    "    return Res\n",
    "\n",
    "plt.subplot(1,3,1)\n",
    "plt.imshow(get_pre_map(test_image)['Me'])\n",
    "plt.subplot(1,3,2)\n",
    "plt.imshow(get_pre_map(test_image)['Enemies'])\n",
    "plt.subplot(1,3,3)\n",
    "plt.imshow(image)"
   ]
  },
  {
   "cell_type": "code",
   "execution_count": 7,
   "metadata": {},
   "outputs": [
    {
     "data": {
      "text/plain": [
       "<matplotlib.image.AxesImage at 0x7fd32e4f3cf8>"
      ]
     },
     "execution_count": 7,
     "metadata": {},
     "output_type": "execute_result"
    },
    {
     "data": {
      "image/png": "[encoded data removed]",
      "text/plain": [
       "<Figure size 432x288 with 3 Axes>"
      ]
     },
     "metadata": {
      "needs_background": "light"
     },
     "output_type": "display_data"
    }
   ],
   "source": [
    "'''Pong'''\n",
    "\n",
    "import cv2 as cv\n",
    "import numpy as np\n",
    "\n",
    "Object = {'Enemies':[[236, 236, 236]], 'Me':[[[92, 186, 92]]]}\n",
    "\n",
    "def get_pre_map(image):\n",
    "    image = np.transpose(image[0][0].numpy(), (1, 2, 0))\n",
    "    \n",
    "    C = image == Object['Enemies'][0]\n",
    "    C[:35, :, :] = 0\n",
    "    C[180:, :, :] = 0\n",
    "    C = np.array(C, dtype='uint8') * 255\n",
    "    \n",
    "    kernel = np.ones((7, 5), np.uint8)\n",
    "\n",
    "    dilation = cv.dilate(C, kernel, iterations = 1)[:,:,0]\n",
    "    attention = cv.resize(dilation, (20, 27), interpolation = cv.INTER_AREA)\n",
    "    \n",
    "    Me = image == Object['Me'][0]\n",
    "    Me[:30, :, :] = 0\n",
    "    Me = np.array(Me, dtype='uint8') * 255\n",
    "    dilation1 = cv.dilate(Me, kernel, iterations = 1)[:,:,0]\n",
    "    attention1 = cv.resize(dilation1, (20, 27), interpolation = cv.INTER_AREA)\n",
    "    \n",
    "    Res = {'Me':attention1[:, :, np.newaxis], 'Enemies':attention[:, :, np.newaxis]}\n",
    "    return Res\n",
    "plt.subplot(1,3,1)\n",
    "plt.imshow(get_pre_map(test_image)['Me'])\n",
    "plt.subplot(1,3,2)\n",
    "plt.imshow(get_pre_map(test_image)['Enemies'])\n",
    "plt.subplot(1,3,3)\n",
    "plt.imshow(image)"
   ]
  },
  {
   "cell_type": "code",
   "execution_count": 83,
   "metadata": {},
   "outputs": [
    {
     "data": {
      "text/plain": [
       "<matplotlib.image.AxesImage at 0x7f0c2530b080>"
      ]
     },
     "execution_count": 83,
     "metadata": {},
     "output_type": "execute_result"
    },
    {
     "data": {
      "image/png": "[encoded data removed]",
      "text/plain": [
       "<Figure size 432x288 with 3 Axes>"
      ]
     },
     "metadata": {
      "needs_background": "light"
     },
     "output_type": "display_data"
    }
   ],
   "source": [
    "'''Breakout'''\n",
    "\n",
    "import cv2 as cv\n",
    "import numpy as np\n",
    "\n",
    "Object = {'Enemies':[[200, 72, 72]], 'Me':[[[200, 72, 72]]]}\n",
    "\n",
    "def get_pre_map(image):\n",
    "    image = np.transpose(image[0][0].numpy(), (1, 2, 0))\n",
    "    \n",
    "    C = image == Object['Enemies'][0]\n",
    "    C[54:64, :, :] = 0\n",
    "    C[187:, :, :] = 0\n",
    "    C = np.array(C, dtype='uint8') * 255\n",
    "    \n",
    "    kernel = np.ones((10, 8), np.uint8)\n",
    "    \n",
    "    dilation = cv.dilate(C, kernel, iterations = 1)[:,:,0]\n",
    "    attention = cv.resize(dilation, (20, 27), interpolation = cv.INTER_AREA)\n",
    "    \n",
    "    Me = image == Object['Me'][0]\n",
    "    Me[:187, :, :] = 0\n",
    "    Me[:, 150:, :] = 0\n",
    "    Me = np.array(Me, dtype='uint8') * 255\n",
    "    dilation1 = cv.dilate(Me, kernel, iterations = 1)[:,:,0]\n",
    "    attention1 = cv.resize(dilation1, (20, 27), interpolation = cv.INTER_AREA)\n",
    "    \n",
    "    Res = {'Me':attention1[:, :, np.newaxis], 'Enemies':attention[:, :, np.newaxis]}\n",
    "    return Res\n",
    "plt.subplot(1,3,1)\n",
    "plt.imshow(get_pre_map(test_image)['Me'])\n",
    "plt.subplot(1,3,2)\n",
    "plt.imshow(get_pre_map(test_image)['Enemies'])\n",
    "plt.subplot(1,3,3)\n",
    "plt.imshow(image)"
   ]
  },
  {
   "cell_type": "code",
   "execution_count": 74,
   "metadata": {},
   "outputs": [
    {
     "data": {
      "text/plain": [
       "<matplotlib.image.AxesImage at 0x7f0c2597cbe0>"
      ]
     },
     "execution_count": 74,
     "metadata": {},
     "output_type": "execute_result"
    },
    {
     "data": {
      "image/png": "[encoded data removed]",
      "text/plain": [
       "<Figure size 432x288 with 1 Axes>"
      ]
     },
     "metadata": {
      "needs_background": "light"
     },
     "output_type": "display_data"
    }
   ],
   "source": [
    "plt.imshow(image[187:,: , :])"
   ]
  },
  {
   "cell_type": "code",
   "execution_count": 34,
   "metadata": {},
   "outputs": [],
   "source": [
    "'''KungFuMaster'''\n",
    "\n",
    "import cv2 as cv\n",
    "import numpy as np\n",
    "\n",
    "Object = {'Enemies':[[104, 25, 154]], 'Me':[[[214, 214, 214]]]}\n",
    "\n",
    "def get_pre_map(image):\n",
    "    image = np.transpose(image[0][0].numpy(), (1, 2, 0))\n",
    "    \n",
    "    C = image == Object['Enemies'][0]\n",
    "    C = np.array(C, dtype='uint8') * 255\n",
    "    \n",
    "    kernel = np.ones((7, 5), np.uint8)\n",
    "    \n",
    "    dilation = cv.dilate(C, kernel, iterations = 1)[:,:,0]\n",
    "    attention = cv.resize(dilation, (20, 27), interpolation = cv.INTER_AREA)\n",
    "    \n",
    "    Me = image == Object['Me'][0]\n",
    "    Me[:55, :, :] = 0\n",
    "    Me = np.array(Me, dtype='uint8') * 255\n",
    "    dilation1 = cv.dilate(Me, kernel, iterations = 1)[:,:,0]\n",
    "    attention1 = cv.resize(dilation1, (20, 27), interpolation = cv.INTER_AREA)\n",
    "    \n",
    "    Res = {'Me':attention1[:, :, np.newaxis], 'Enemies':attention[:, :, np.newaxis]}\n",
    "    return Res\n",
    "plt.subplot(1,3,1)\n",
    "plt.imshow(get_pre_map(test_image)['Me'])\n",
    "plt.subplot(1,3,2)\n",
    "plt.imshow(get_pre_map(test_image)['Enemies'])\n",
    "plt.subplot(1,3,3)\n",
    "plt.imshow(image)"
   ]
  },
  {
   "cell_type": "code",
   "execution_count": 35,
   "metadata": {},
   "outputs": [
    {
     "data": {
      "text/plain": [
       "<matplotlib.image.AxesImage at 0x7f0c26d887b8>"
      ]
     },
     "execution_count": 35,
     "metadata": {},
     "output_type": "execute_result"
    },
    {
     "data": {
      "image/png": "[encoded data removed]",
      "text/plain": [
       "<Figure size 432x288 with 3 Axes>"
      ]
     },
     "metadata": {
      "needs_background": "light"
     },
     "output_type": "display_data"
    }
   ],
   "source": []
  },
  {
   "cell_type": "code",
   "execution_count": 13,
   "metadata": {},
   "outputs": [
    {
     "data": {
      "text/plain": [
       "array([[[ 66,  72, 200],\n",
       "        [ 66,  72, 200],\n",
       "        [214, 214, 214],\n",
       "        [ 66,  72, 200],\n",
       "        [ 66,  72, 200],\n",
       "        [ 66,  72, 200],\n",
       "        [214, 214, 214],\n",
       "        [214, 214, 214],\n",
       "        [214, 214, 214],\n",
       "        [214, 214, 214]],\n",
       "\n",
       "       [[ 66,  72, 200],\n",
       "        [ 66,  72, 200],\n",
       "        [214, 214, 214],\n",
       "        [214, 214, 214],\n",
       "        [ 66,  72, 200],\n",
       "        [214, 214, 214],\n",
       "        [214, 214, 214],\n",
       "        [214, 214, 214],\n",
       "        [214, 214, 214],\n",
       "        [214, 214, 214]],\n",
       "\n",
       "       [[ 66,  72, 200],\n",
       "        [ 66,  72, 200],\n",
       "        [214, 214, 214],\n",
       "        [214, 214, 214],\n",
       "        [214, 214, 214],\n",
       "        [214, 214, 214],\n",
       "        [214, 214, 214],\n",
       "        [214, 214, 214],\n",
       "        [214, 214, 214],\n",
       "        [214, 214, 214]],\n",
       "\n",
       "       [[ 66,  72, 200],\n",
       "        [ 66,  72, 200],\n",
       "        [214, 214, 214],\n",
       "        [214, 214, 214],\n",
       "        [214, 214, 214],\n",
       "        [ 66,  72, 200],\n",
       "        [214, 214, 214],\n",
       "        [214, 214, 214],\n",
       "        [214, 214, 214],\n",
       "        [214, 214, 214]],\n",
       "\n",
       "       [[ 66,  72, 200],\n",
       "        [ 66,  72, 200],\n",
       "        [ 66,  72, 200],\n",
       "        [214, 214, 214],\n",
       "        [ 66,  72, 200],\n",
       "        [214, 214, 214],\n",
       "        [ 66,  72, 200],\n",
       "        [214, 214, 214],\n",
       "        [214, 214, 214],\n",
       "        [214, 214, 214]],\n",
       "\n",
       "       [[ 66,  72, 200],\n",
       "        [ 66,  72, 200],\n",
       "        [ 66,  72, 200],\n",
       "        [ 66,  72, 200],\n",
       "        [214, 214, 214],\n",
       "        [214, 214, 214],\n",
       "        [214, 214, 214],\n",
       "        [214, 214, 214],\n",
       "        [214, 214, 214],\n",
       "        [214, 214, 214]],\n",
       "\n",
       "       [[ 66,  72, 200],\n",
       "        [ 66,  72, 200],\n",
       "        [ 66,  72, 200],\n",
       "        [ 66,  72, 200],\n",
       "        [ 66,  72, 200],\n",
       "        [214, 214, 214],\n",
       "        [214, 214, 214],\n",
       "        [214, 214, 214],\n",
       "        [214, 214, 214],\n",
       "        [ 66,  72, 200]],\n",
       "\n",
       "       [[ 66,  72, 200],\n",
       "        [ 66,  72, 200],\n",
       "        [ 66,  72, 200],\n",
       "        [ 66,  72, 200],\n",
       "        [ 66,  72, 200],\n",
       "        [ 66,  72, 200],\n",
       "        [214, 214, 214],\n",
       "        [214, 214, 214],\n",
       "        [ 66,  72, 200],\n",
       "        [214, 214, 214]],\n",
       "\n",
       "       [[ 66,  72, 200],\n",
       "        [ 66,  72, 200],\n",
       "        [ 66,  72, 200],\n",
       "        [ 66,  72, 200],\n",
       "        [ 66,  72, 200],\n",
       "        [ 66,  72, 200],\n",
       "        [214, 214, 214],\n",
       "        [214, 214, 214],\n",
       "        [214, 214, 214],\n",
       "        [214, 214, 214]],\n",
       "\n",
       "       [[ 66,  72, 200],\n",
       "        [ 66,  72, 200],\n",
       "        [ 66,  72, 200],\n",
       "        [ 66,  72, 200],\n",
       "        [ 66,  72, 200],\n",
       "        [  0,   0,   0],\n",
       "        [  0,   0,   0],\n",
       "        [  0,   0,   0],\n",
       "        [  0,   0,   0],\n",
       "        [  0,   0,   0]]], dtype=uint8)"
      ]
     },
     "execution_count": 13,
     "metadata": {},
     "output_type": "execute_result"
    }
   ],
   "source": [
    "image[125:175,50:100,:][10:20, 30:40,:]"
   ]
  }
 ],
 "metadata": {
  "kernelspec": {
   "display_name": "Python [conda env:atten] *",
   "language": "python",
   "name": "conda-env-atten-py"
  },
  "language_info": {
   "codemirror_mode": {
    "name": "ipython",
    "version": 3
   },
   "file_extension": ".py",
   "mimetype": "text/x-python",
   "name": "python",
   "nbconvert_exporter": "python",
   "pygments_lexer": "ipython3",
   "version": "3.6.12"
  }
 },
 "nbformat": 4,
 "nbformat_minor": 4
}
